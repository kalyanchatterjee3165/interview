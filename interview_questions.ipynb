{
 "cells": [
  {
   "cell_type": "code",
   "execution_count": null,
   "id": "e718a2a0",
   "metadata": {},
   "outputs": [],
   "source": [
    "# uri = "mongodb://john.smith@company.com:password123@mongo.internal.company.com:27017/sales?authMechanism=PLAIN&authSource=$external"",
    "# Git Question\n",
    "\n",
    "# Git Command \n",
    "\n",
    "# git clone https://github.com/kalyanchatterjeeds/Pandas-dataset.git \n",
    "\n",
    "# # Make sure you're in the repository directory\n",
    "# cd Pandas-dataset\n",
    "\n",
    "# # Create and switch to a new branch\n",
    "# git checkout -b add-new-notebook\n",
    "\n",
    "# # Or create branch and switch separately\n",
    "# git branch add-new-notebook\n",
    "# git checkout add-new-notebook\n",
    "\n",
    "# # Create a new .ipynb file\n",
    "# touch my_analysis.ipynb\n",
    "\n",
    "# # Add the new file\n",
    "# git add my_analysis.ipynb\n",
    "\n",
    "# # Commit with a descriptive message\n",
    "# git commit -m \"Add new data analysis notebook\"\n",
    "\n",
    "# # Push the new branch to GitHub\n",
    "# git push origin add-new-notebook\n",
    "\n",
    "# # Push the new branch to GitHub\n",
    "# git push origin add-new-notebook\n",
    "\n",
    "\n"
   ]
  },
  {
   "cell_type": "code",
   "execution_count": null,
   "id": "5643f0e3",
   "metadata": {},
   "outputs": [],
   "source": [
    "#  Q1. What is decorators\n",
    "#  A decorator is a function that takes another function as input and extends or modifies its behavior without permanently modifying the function itself. It's a way to wrap another function and execute code before and/or after the wrapped function runs."
   ]
  },
  {
   "cell_type": "code",
   "execution_count": null,
   "id": "ee70c0b7",
   "metadata": {},
   "outputs": [],
   "source": [
    "#Q2 Use cases of Decorators\n"
   ]
  },
  {
   "cell_type": "code",
   "execution_count": null,
   "id": "f2d37226",
   "metadata": {},
   "outputs": [],
   "source": [
    "# Q2. Can you tell me what is this"
   ]
  },
  {
   "cell_type": "code",
   "execution_count": null,
   "id": "c18b9d82",
   "metadata": {},
   "outputs": [],
   "source": [
    "# Q3. Can you explain the code\n",
    "import time\n",
    "from functools import wraps\n",
    "\n",
    "def timing(func):\n",
    "    @wraps(func)\n",
    "    def wrapper(*args, **kwargs):\n",
    "        start_time = time.time()\n",
    "        result = func(*args, **kwargs)\n",
    "        end_time = time.time()\n",
    "        print(f\"{func.__name__} took {end_time - start_time:.4f} seconds\")\n",
    "        return result\n",
    "    return wrapper\n",
    "\n",
    "@timing\n",
    "def slow_function():\n",
    "    time.sleep(1)\n",
    "    return \"Done\""
   ]
  },
  {
   "cell_type": "code",
   "execution_count": null,
   "id": "a2c6c5a4",
   "metadata": {},
   "outputs": [
    {
     "name": "stdout",
     "output_type": "stream",
     "text": [
      "0 1 1 2 3 5 8 13 21 34 "
     ]
    }
   ],
   "source": [
    "# Q4. Do you know generator Funtion?  Print fibinacci series using Generator Funtion\n",
    "\n",
    "def fibonacci_generator(n):\n",
    "    a, b = 0, 1\n",
    "    for _ in range(n):\n",
    "        yield a\n",
    "        a, b = b, a + b\n",
    "\n",
    "for num in fibonacci_generator(10):\n",
    "    print(num, end=' ')"
   ]
  },
  {
   "cell_type": "markdown",
   "id": "c8b91345",
   "metadata": {},
   "source": [
    "Q5. What is the difference between a module and a package in Python?\n",
    "\n",
    "\t•\tA module is a single Python file (.py) that contains functions, classes, or variables you can import and reuse.\n",
    "🔸 Example:\n",
    "math.py is a module, and you can import it using:\n",
    "\n",
    "import math\n",
    "\n",
    "\n",
    "\t•\tA package is a directory that contains multiple Python modules and a special __init__.py file to make it importable.\n",
    "🔸 Example:\n",
    "\n",
    "my_package/\n",
    "├── __init__.py\n",
    "├── utils.py\n",
    "├── models.py\n"
   ]
  },
  {
   "cell_type": "markdown",
   "id": "dc4cee38",
   "metadata": {},
   "source": []
  }
 ],
 "metadata": {
  "kernelspec": {
   "display_name": "Python 3",
   "language": "python",
   "name": "python3"
  },
  "language_info": {
   "codemirror_mode": {
    "name": "ipython",
    "version": 3
   },
   "file_extension": ".py",
   "mimetype": "text/x-python",
   "name": "python",
   "nbconvert_exporter": "python",
   "pygments_lexer": "ipython3",
   "version": "3.11.13"
  }
 },
 "nbformat": 4,
 "nbformat_minor": 5
}
